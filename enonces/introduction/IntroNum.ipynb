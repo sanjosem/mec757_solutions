{
 "cells": [
  {
   "cell_type": "markdown",
   "metadata": {},
   "source": [
    "# Introduction aux outils numériques\n",
    "\n",
    "Nous allons faire un survol de quelques commandes que nous utiliserons dans les autres TP numériques. \n",
    "\n",
    "## Objectifs de cette séance\n",
    "\n",
    "Comme vous avez tous une formation de base en Matlab, nous allons nous appuyer sur cela pour réaliser quelques opérations simples que nous employerons sur des problèmes d'aérodynamique par la suite. \n",
    "\n",
    "Réalisez les exercices avec Matlab et dans ce notebook pour vous familiariser avec les commandes python.\n",
    "\n",
    "## Modules\n",
    "\n",
    "Comme Matlab, Python est langage interprété. On s'appuie sur des fonctions pré-compilées pour rendre les opérations de calcul efficace. \n",
    "\n",
    "Contrairement à Matlab, les modules ne sont pas chargés automatiquement. Il faut donc toujours importer ce dont on a besoin. Dans le cadre de ce cours, nous aurons besoin essentiellement de `numpy` et `matplotlib`.\n",
    "\n",
    "[NumPy](https://numpy.org) est une bibliothèque d'objets et de fonctions adaptés au calcul vectoriel c'est-à-dire à des opérations sur des listes ou tableaux (N-dimensions) homogènes de nombres (_array_). Grace à cette bibliothèque, les opérations principales que l'on réalise avec Matlab sont réalisable sous Python. Souvent les fonctions ont le même nom. \n",
    "\n",
    "[MatplotLib](https://matplotlib.org/) est une bibliothèque d'objets et de fonctions pour réaliser des représentations graphiques 2D comme dans Matlab (et certainement même plus !). On utilise le sous-module `pyplot` qui contient tout ce dont on a besoin.\n",
    "\n",
    "Pour charger un module, on utilise la fonction `import` et on lui donne un petit nom pour raccourcir nos appels. "
   ]
  },
  {
   "cell_type": "code",
   "execution_count": 1,
   "metadata": {},
   "outputs": [],
   "source": [
    "import numpy as np\n",
    "import matplotlib.pyplot as plt"
   ]
  },
  {
   "cell_type": "markdown",
   "metadata": {},
   "source": [
    "Pour avoir des graphiques de bonne qualité, nous utilisons les paramètres suivants."
   ]
  },
  {
   "cell_type": "code",
   "execution_count": 2,
   "metadata": {},
   "outputs": [],
   "source": [
    "plt.rcParams['figure.autolayout'] = True\n",
    "plt.rcParams['figure.dpi'] = 100\n",
    "plt.rcParams['font.size'] = 12"
   ]
  },
  {
   "cell_type": "markdown",
   "metadata": {},
   "source": [
    "Voilà vous êtes prêt ! "
   ]
  },
  {
   "cell_type": "markdown",
   "metadata": {},
   "source": [
    "## Exercice 1 - Intersection de deux droites\n",
    "\n",
    "On souhaite calculer le point d'intersection de deux droites définies par les équations suivantes : \n",
    "\\begin{equation}\n",
    "y = 2 x -5 \\hspace{2cm} \\text{et} \\hspace{2cm} \n",
    "y = -x + 3\n",
    "\\end{equation}\n",
    "\n",
    "1. Construisez les tableaux suivants : \n",
    "  * `x` de 20 points uniformément répartis de -5 à 5. Utilisez la fonction `linspace` de `numpy`.\n",
    "  * `y1` et `y2` les ordonnées des points aux abscisses `x` des points sur les droites 1 et 2. "
   ]
  },
  {
   "cell_type": "code",
   "execution_count": null,
   "metadata": {},
   "outputs": [],
   "source": []
  },
  {
   "cell_type": "markdown",
   "metadata": {},
   "source": [
    "2. Tracez les deux droites ainsi définies : \n",
    "  * La droite 1 en bleu, la droite 2 en rouge et en pointillés.\n",
    "  * Affichez une grille, une légende et des labels sur les axes."
   ]
  },
  {
   "cell_type": "code",
   "execution_count": null,
   "metadata": {},
   "outputs": [],
   "source": []
  },
  {
   "cell_type": "markdown",
   "metadata": {},
   "source": [
    "3. Définissez le problème matriciel $M X = B$ à résoudre pour trouver l'intersection des droites et créez les tableaux numpy `M` et `B`. Utilisez la fonction `array`, vérifiez les formes avec `shape` et utilisez `reshape` pour corriger. "
   ]
  },
  {
   "cell_type": "code",
   "execution_count": null,
   "metadata": {},
   "outputs": [],
   "source": []
  },
  {
   "cell_type": "markdown",
   "metadata": {},
   "source": [
    "4. Résolvez le problème en utilisant le sous-module d'algèbre linéaire [`linalg`](https://numpy.org/doc/stable/reference/routines.linalg.html#solving-equations-and-inverting-matrices) de `numpy`. Le produit matriciel (`dot`) est implémenté avec le symbole `@`"
   ]
  },
  {
   "cell_type": "code",
   "execution_count": null,
   "metadata": {},
   "outputs": [],
   "source": []
  },
  {
   "cell_type": "markdown",
   "metadata": {},
   "source": [
    "5. Reprennez la figure de la question 2 et ajoutez le point d'intersection avec un symbole vert. Si l'intersection n'est pas correcte, vérifiez vos matrices et leurs formes. Enregistrez la figure sous un format image. "
   ]
  },
  {
   "cell_type": "code",
   "execution_count": null,
   "metadata": {},
   "outputs": [],
   "source": []
  },
  {
   "cell_type": "markdown",
   "metadata": {},
   "source": [
    "## Exercice 2 - Les profils NACA 4 chiffres\n",
    "\n",
    "Les profils NACA sont des formes d'aile testées par le [National Advisory Committee for Aeronautics](https://fr.wikipedia.org/wiki/National_Advisory_Committee_for_Aeronautics). C'est des profils dont la forme correspond à une équation mathématique dont les formes sont paramétrées et dont les coefficients aérodynamiques en fonction de l'incidence (angle d'attaque) ont été mesurés de manière systématique en soufflerie. \n",
    "\n",
    "Ici on s'intéressera aux profils dits 4 chiffres symmétrique `NACA00XX`. Il sont définis par 2 paramètres : \n",
    "  * La corde du profil $c$ (distance bord d'attaque/bord de fuite).\n",
    "  * L'épaisseur maximale du profil est caractérisée par le paramètre $t$ qui est un pourcentage de la corde : \n",
    "\\begin{equation}\n",
    "t = \\frac{\\texttt{XX}}{100}\n",
    "\\end{equation}\n",
    "\n",
    "On définit la coordoonnée $x_c$ qui varie de 0 à 1 le long de la corde. La demi-épaisseur du profil $y_t$ (distance entre ses deux côtés) est alors paramétrée en fonction de cette coordonnée par l'équation suivante : \n",
    "\\begin{equation}\n",
    "y_t = 5 t \\left( 0.2969 \\sqrt{x_c} - 0.1260 \\,  x_c - 0.3516 \\, x_c^2 + 0.2843 \\, x_c^3 - 0.1036 \\, x_c^4\\right)\n",
    "\\end{equation}\n",
    "\n",
    "Ainsi un profil dont la forme pourra être obtenue grace au deux courbes (redimmensionnées): \n",
    "\n",
    "\\begin{align}\n",
    "x_{up} &= x_c \\, c   & et \\hspace{1cm}  y_{up} &= + y_t \\, c \\\\\n",
    "x_{down} &= x_c \\, c  & et \\hspace{1cm}  y_{down} &= - y_t \\, c \n",
    "\\end{align}\n",
    "\n",
    "Pour les questions suivantes, n'hésitez pas à contacter l'enseignant. Les questions sont choisies pour vous faire réfléchir et découvrir des options des modules."
   ]
  },
  {
   "cell_type": "markdown",
   "metadata": {},
   "source": [
    "1. Construisez et tracez le profil NACA007 de corde 12 cm avec 15 points de chaque côté. Déterminez l'épaisseur maximum obtenue la position sur la corde où ce point est atteint. Que pouvez vous dire ?"
   ]
  },
  {
   "cell_type": "code",
   "execution_count": 3,
   "metadata": {},
   "outputs": [],
   "source": [
    "# Parametres du profil\n",
    "\n",
    "# Parametre de discretisation\n"
   ]
  },
  {
   "cell_type": "code",
   "execution_count": 4,
   "metadata": {},
   "outputs": [],
   "source": [
    "# Coordonnee de corde\n",
    "\n",
    "# Epaisseur\n"
   ]
  },
  {
   "cell_type": "code",
   "execution_count": 5,
   "metadata": {},
   "outputs": [],
   "source": [
    "# Extrados\n",
    "\n",
    "# Intrados\n"
   ]
  },
  {
   "cell_type": "code",
   "execution_count": 6,
   "metadata": {},
   "outputs": [],
   "source": [
    "# Epaisseur max\n"
   ]
  },
  {
   "cell_type": "code",
   "execution_count": 7,
   "metadata": {},
   "outputs": [],
   "source": [
    "# Trace dimensionnel et adimensionne par la corde\n"
   ]
  },
  {
   "cell_type": "markdown",
   "metadata": {},
   "source": [
    "2. Créez une fonction qui permette d'obtenir les coordonnées dimensionnées à partir des paramètres du profil. Vous pourrez utiliser un distionnaire pour retourner les tableaux nécessaires. Tracez sur une même graphique les profils `NACA0005`, `NACA0012` et `NACA0017` de corde 10 cm, 5 cm et 7.5 cm respectivement. "
   ]
  },
  {
   "cell_type": "code",
   "execution_count": 8,
   "metadata": {},
   "outputs": [],
   "source": [
    "def NACA00_shape(chiffres34,corde,npts=15):\n",
    "    \n",
    "    return "
   ]
  },
  {
   "cell_type": "code",
   "execution_count": 9,
   "metadata": {},
   "outputs": [],
   "source": [
    "# Traces"
   ]
  },
  {
   "cell_type": "markdown",
   "metadata": {},
   "source": [
    "3. Que peut-on faire pour rendre les tracés pour lisse ? Réalisez un zoom sur les 5 premiers millimètres de corde et commentez."
   ]
  },
  {
   "cell_type": "code",
   "execution_count": null,
   "metadata": {},
   "outputs": [],
   "source": []
  },
  {
   "cell_type": "code",
   "execution_count": 10,
   "metadata": {},
   "outputs": [],
   "source": [
    "# Nouveau trace"
   ]
  },
  {
   "cell_type": "markdown",
   "metadata": {},
   "source": [
    "4. La forme du bord d'attaque et du bord de fuite ont un rôle crucial sur la portance d'un profil aérodynamique. Il est parfois utile d'utiliser une distribution de points non uniforme pour calculer les efforts aérodynamiques. \n",
    "Reprennez la fonction de la question 2 et ajoutez une option pour avoir une distribution cosinusoidale selon : \n",
    "\\begin{align}\n",
    "x_c = \\frac{1}{2}\\left(1 - \\cos{\\zeta}\\right) \\hspace{1cm} \\text{avec : } \\hspace{0.2cm} \\zeta \\in [0, \\pi]\n",
    "\\end{align}"
   ]
  },
  {
   "cell_type": "code",
   "execution_count": 11,
   "metadata": {},
   "outputs": [],
   "source": [
    "def NACA00_shape_improved(chiffres34,corde,npts=15,distri='cos'):\n",
    "    \n",
    "    \n",
    "    return "
   ]
  },
  {
   "cell_type": "markdown",
   "metadata": {},
   "source": [
    "5. Pour les 3 mêmes profils de la question 2, avec une discretisation cosinusoidale de 41 points, réalisez un zoom sur les 5 premiers millimètres de corde et comparez à la distribution uniforme avec le même nombre de points. Exportez la figure en image. "
   ]
  },
  {
   "cell_type": "code",
   "execution_count": null,
   "metadata": {},
   "outputs": [],
   "source": []
  },
  {
   "cell_type": "code",
   "execution_count": 12,
   "metadata": {},
   "outputs": [
    {
     "data": {
      "image/png": "[encoded data removed]",
      "text/plain": [
       "<Figure size 800x400 with 2 Axes>"
      ]
     },
     "metadata": {
      "needs_background": "light"
     },
     "output_type": "display_data"
    }
   ],
   "source": [
    "# Traces cote a cote \n",
    "fig, ax = plt.subplots(1,2,constrained_layout=True,tight_layout=False,figsize=(8,4))\n",
    "\n",
    "\n",
    "plt.show()"
   ]
 },
 {
  "cell_type": "markdown",
  "metadata": {},
  "source": [
   "## Exercice 3 - Calcul symbolique\n",
   "\n",
   "Si vous n'avez pas de TI, sachez que le module [SymPy](https://www.sympy.org) vous permet de faire du calcul symbolique. Nous allons voir quelques fonction de base qui pourront vous être pour la théorie 2D et 3D des profils. \n",
   "\n",
   "À nouveau tout d'abord il faut l'importer. On active l'affichage sous forme formel."
  ]
 },
 {
  "cell_type": "code",
  "execution_count": 23,
  "metadata": {},
  "outputs": [],
  "source": [
   "import sympy as sb\n",
   "sb.init_printing()"
  ]
 },
 {
  "cell_type": "markdown",
  "metadata": {},
  "source": [
   "On souhaite calculer la dérivée et la primitive de la fonction suivante : \n",
   "\\begin{align}\n",
   " \\int{{\\left(\\cos{\\theta}\\right)}^3 \\, d\\theta}\n",
   "\\end{align}"
  ]
 },
 {
  "cell_type": "markdown",
  "metadata": {},
  "source": [
   "1. Les variables formelles sont des objets de type `Symbol`. Définissez le symbole $\\theta$."
  ]
 },
 {
  "cell_type": "code",
  "execution_count": 24,
  "metadata": {},
  "outputs": [],
  "source": [
   "theta = sb.Symbol('theta')"
  ]
 },
 {
  "cell_type": "code",
  "execution_count": 25,
  "metadata": {},
  "outputs": [
   {
    "data": {
     "image/png": "[encoded data removed]",
     "text/latex": [
      "$\\displaystyle \\theta$"
     ],
     "text/plain": [
      "θ"
     ]
    },
    "execution_count": 25,
    "metadata": {},
    "output_type": "execute_result"
   }
  ],
  "source": [
   "theta"
  ]
 },
 {
  "cell_type": "markdown",
  "metadata": {},
  "source": [
   "2. Calculez la dérivée première et seconde de ${\\left(\\cos{\\theta}\\right)}^3$  à l'aide de la fonction `diff`"
  ]
 },
 {
  "cell_type": "code",
  "execution_count": 26,
  "metadata": {},
  "outputs": [],
  "source": [
   "f = sb.cos(theta)**3"
  ]
 },
 {
  "cell_type": "code",
  "execution_count": 27,
  "metadata": {},
  "outputs": [
   {
    "data": {
     "image/png": "[encoded data removed]",
     "text/latex": [
      "$\\displaystyle - 3 \\sin{\\left(\\theta \\right)} \\cos^{2}{\\left(\\theta \\right)}$"
     ],
     "text/plain": [
      "             2   \n",
      "-3⋅sin(θ)⋅cos (θ)"
     ]
    },
    "execution_count": 27,
    "metadata": {},
    "output_type": "execute_result"
   }
  ],
  "source": [
   "fp = sb.diff(f,theta)\n",
   "fp"
  ]
 },
 {
  "cell_type": "code",
  "execution_count": 28,
  "metadata": {},
  "outputs": [
   {
    "data": {
     "image/png": "[encoded data removed]",
     "text/latex": [
      "$\\displaystyle 6 \\sin^{2}{\\left(\\theta \\right)} \\cos{\\left(\\theta \\right)} - 3 \\cos^{3}{\\left(\\theta \\right)}$"
     ],
     "text/plain": [
      "     2                  3   \n",
      "6⋅sin (θ)⋅cos(θ) - 3⋅cos (θ)"
     ]
    },
    "execution_count": 28,
    "metadata": {},
    "output_type": "execute_result"
   }
  ],
  "source": [
   "fpp = sb.diff(fp,theta)\n",
   "fpp"
  ]
 },
 {
  "cell_type": "code",
  "execution_count": 29,
  "metadata": {},
  "outputs": [
   {
    "data": {
     "image/png": "[encoded data removed]",
     "text/latex": [
      "$\\displaystyle 3 \\left(2 \\sin^{2}{\\left(\\theta \\right)} - \\cos^{2}{\\left(\\theta \\right)}\\right) \\cos{\\left(\\theta \\right)}$"
     ],
     "text/plain": [
      "  ⎛     2         2   ⎞       \n",
      "3⋅⎝2⋅sin (θ) - cos (θ)⎠⋅cos(θ)"
     ]
    },
    "execution_count": 29,
    "metadata": {},
    "output_type": "execute_result"
   }
  ],
  "source": [
   "fpp_2 = sb.diff(f,theta,2)\n",
   "fpp_2"
  ]
 },
 {
  "cell_type": "markdown",
  "metadata": {},
  "source": [
   "3. Calculez la primitive de ${\\left(\\cos{\\theta}\\right)}^3$ à l'aide de la fonction `integrate`"
  ]
 },
 {
  "cell_type": "code",
  "execution_count": 30,
  "metadata": {},
  "outputs": [
   {
    "data": {
     "image/png": "[encoded data removed]",
     "text/latex": [
      "$\\displaystyle - \\frac{\\sin^{3}{\\left(\\theta \\right)}}{3} + \\sin{\\left(\\theta \\right)}$"
     ],
     "text/plain": [
      "     3            \n",
      "  sin (θ)         \n",
      "- ─────── + sin(θ)\n",
      "     3            "
     ]
    },
    "execution_count": 30,
    "metadata": {},
    "output_type": "execute_result"
   }
  ],
  "source": [
   "I = sb.integrate(f,theta)\n",
   "I"
  ]
 }
 ],
 "metadata": {
  "kernelspec": {
   "display_name": "Python 3",
   "language": "python",
   "name": "python3"
  },
  "language_info": {
   "codemirror_mode": {
    "name": "ipython",
    "version": 3
   },
   "file_extension": ".py",
   "mimetype": "text/x-python",
   "name": "python",
   "nbconvert_exporter": "python",
   "pygments_lexer": "ipython3",
   "version": "3.8.9"
  }
 },
 "nbformat": 4,
 "nbformat_minor": 4
}
