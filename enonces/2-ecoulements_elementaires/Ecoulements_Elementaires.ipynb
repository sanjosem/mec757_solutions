{
 "cells": [
  {
   "cell_type": "markdown",
   "metadata": {},
   "source": [
    "# Sources Élémentaires\n",
    "Avec ce TP numérique, nous allons nous familiariser à plusieurs écoulements de bases qui nous serviront à construire la théorie des profils portants.\n",
    "\n",
    "## Objectifs de la séance\n",
    "Comprendre le lien entre les formules mathématiques et la structure des écoulements.\n"
   ]
  },
  {
   "cell_type": "markdown",
   "metadata": {},
   "source": [
    "### Modules python et fonctions pour les graphiques\n",
    "N'oubliez pas d'excuter les cellules de code suivantes sinon les modules, variables et fonctions ne seront pas connues."
   ]
  },
  {
   "cell_type": "code",
   "execution_count": 1,
   "metadata": {},
   "outputs": [],
   "source": [
    "import numpy as np\n",
    "import matplotlib.pyplot as plt"
   ]
  },
  {
   "cell_type": "code",
   "execution_count": 2,
   "metadata": {},
   "outputs": [],
   "source": [
    "plt.rcParams['figure.dpi'] = 100\n",
    "plt.rcParams['font.size'] = 12"
   ]
  },
  {
   "cell_type": "markdown",
   "metadata": {},
   "source": [
    "Voici des petites fonctions pour vous aider dans les tracés."
   ]
  },
  {
   "cell_type": "code",
   "execution_count": 3,
   "metadata": {},
   "outputs": [],
   "source": [
    "def plot_contours_phi_psi(X,Y,PHI,PSI,titre=None,Ncontours=25):\n",
    "    \"\"\"\n",
    "    X et Y sont des tableaux de coordonnées du plan\n",
    "    PHI et PSI sont les fonctions potentiel et courant évaluées sur cette grille\n",
    "    Vous pouvez ajouter un titre du graphique sous la forme d'une chaine de caractères.\n",
    "    Vous pouvez changez le nombres de contours avec la variable Ncontours\n",
    "    \"\"\"\n",
    "    plt.contour(X,Y,PHI,Ncontours,cmap=plt.cm.Blues)\n",
    "    plt.contour(X,Y,PSI,Ncontours,linestyles='dashed',cmap=plt.cm.Reds)\n",
    "    plt.xlabel('x')\n",
    "    plt.ylabel('y')\n",
    "    plt.axis('image')\n",
    "    if not titre is None:\n",
    "        plt.title(titre)\n",
    "    plt.show()"
   ]
  },
  {
   "cell_type": "code",
   "execution_count": 4,
   "metadata": {},
   "outputs": [],
   "source": [
    "def plot_lignes_courant(X,Y,U,V,titre=None):\n",
    "    \"\"\"\n",
    "    X et Y sont des tableaux de coordonnées du plan\n",
    "    U et V sont les composantes cartésiennes de vitesse évaluées sur cette grille\n",
    "    Vous pouvez ajouter un titre du graphique sous la forme d'une chaine de caractères.\n",
    "    \"\"\"\n",
    "    plt.streamplot(X,Y,U,V)\n",
    "    plt.xlabel('x')\n",
    "    plt.ylabel('y')\n",
    "    plt.axis('image')\n",
    "    if not titre is None:\n",
    "        plt.title(titre)\n",
    "    plt.show()"
   ]
  },
  {
   "cell_type": "markdown",
   "metadata": {},
   "source": [
    "### Exercice 1 - Rappels théoriques\n",
    "(avec la prof au tableau)\n",
    "1. Listez les hypothèses nécessaires pour pouvoir définir un potentiel de vitesse $\\varphi$ et une fonction de courant $\\psi$ pour décrire le champ de vitesse.\n",
    "2. Donnez les équations qui relient la fonction potentiel $\\varphi$, la fonction courant $\\psi$ et les composantes de vitesse en cartésien $(u,v)$.\n",
    "3. Donnez les équations qui relient la fonction potentiel $\\varphi$, la fonction courant $\\psi$ et les composantes de vitesse en polaire $(u_r,u_\\theta)$."
   ]
  },
  {
   "cell_type": "markdown",
   "metadata": {},
   "source": [
    "### Exercice 2 - Écoulement uniforme\n",
    "On considère un écoulement uniforme tel que $\\vec{V}=V_\\infty \\vec{e}_x$\n",
    "1. Rappellez les fonctions $\\varphi(x,y)$ et $\\psi(x,y)$ qui décrivent cet écoulement dans le plan cartésien."
   ]
  },
  {
   "cell_type": "markdown",
   "metadata": {},
   "source": [
    "2. Créez une grille du plan entre les points de coordonnées $(-10,-10)$ et $(10,10)$ de points uniforméments répartis dans la direction horizontale et verticale. \n",
    "Vous pourrez utiliser les fonctions `linspace` et `meshgrid` du module `numpy`.\n",
    "\n",
    "\n",
    "**NB: Nous utiliserons cette grille dans toute la suite** (pensez à executer cette cellule si vous redémarrez le noyau)  \n",
    "Les nombres des points en x et y doivent être identiques pour l'utilisation de `streamplot`"
   ]
  },
  {
   "cell_type": "code",
   "execution_count": 5,
   "metadata": {},
   "outputs": [],
   "source": [
    "# nx = \n",
    "# ny = \n",
    "# x = \n",
    "# y = \n",
    "# X,Y = "
   ]
  },
  {
   "cell_type": "markdown",
   "metadata": {},
   "source": [
    "3. Construisez les lignes iso-potentielles et iso-courant à l'aide de la fonction `contour` de `matplotlib`. Est-ce que le choix de la valeur de $V_\\infty$ modifiera les contours ? "
   ]
  },
  {
   "cell_type": "code",
   "execution_count": 6,
   "metadata": {},
   "outputs": [],
   "source": [
    "# Vinf = \n",
    "# PHI = \n",
    "# PSI = "
   ]
  },
  {
   "cell_type": "code",
   "execution_count": 7,
   "metadata": {},
   "outputs": [],
   "source": [
    "# plot_contours_phi_psi(X,Y,PHI,PSI,titre='Écoulement uniforme')"
   ]
  },
  {
   "cell_type": "markdown",
   "metadata": {},
   "source": [
    "4. Tracez les lignes de courant avec la fonction `streamplot` de `matplotlib`"
   ]
  },
  {
   "cell_type": "code",
   "execution_count": 8,
   "metadata": {},
   "outputs": [],
   "source": [
    "# U = \n",
    "# V = "
   ]
  },
  {
   "cell_type": "code",
   "execution_count": 9,
   "metadata": {
    "scrolled": false
   },
   "outputs": [],
   "source": [
    "# plot_lignes_courant(X,Y,U,V,titre='Écoulement uniforme')"
   ]
  },
  {
   "cell_type": "markdown",
   "metadata": {},
   "source": [
    "5. L'écoulement uniforme a maintenant une incidence $\\alpha$ par rapport à la direction $\\vec{e}_x$. Retrouvez les nouvelles équations de $\\varphi$ et $\\psi$, et tracez les lignes de courants et potentielles."
   ]
  },
  {
   "cell_type": "code",
   "execution_count": 10,
   "metadata": {},
   "outputs": [],
   "source": [
    "# Vinf = \n",
    "# alpha = \n",
    "# PHI = \n",
    "# PSI = \n",
    "# U = \n",
    "# V = "
   ]
  },
  {
   "cell_type": "code",
   "execution_count": 11,
   "metadata": {},
   "outputs": [],
   "source": [
    "# plot_contours_phi_psi(X,Y,PHI,PSI,titre='Écoulement uniforme avec incidence')"
   ]
  },
  {
   "cell_type": "code",
   "execution_count": 12,
   "metadata": {},
   "outputs": [],
   "source": [
    "# plot_lignes_courant(X,Y,U,V,titre='Écoulement uniforme avec incidence')"
   ]
  },
  {
   "cell_type": "markdown",
   "metadata": {},
   "source": [
    "### Exercice 3 - Source et puits\n",
    "On considère un écoulement de source de débit linéique $\\Lambda$ qui l'on notera `L` dans le code.\n",
    "1. Rappellez les composantes radiale et tangentielle de vitesse\n",
    "2. Rappellez les fonctions de courant et potentiel en utilisant les coordonnées cartésiennes."
   ]
  },
  {
   "cell_type": "markdown",
   "metadata": {},
   "source": [
    "3. Créez une source en $(0,0)$"
   ]
  },
  {
   "cell_type": "code",
   "execution_count": 13,
   "metadata": {},
   "outputs": [],
   "source": [
    "# R = \n",
    "# THETA = "
   ]
  },
  {
   "cell_type": "code",
   "execution_count": 14,
   "metadata": {},
   "outputs": [],
   "source": [
    "# L = \n",
    "# PHI = \n",
    "# PSI = "
   ]
  },
  {
   "cell_type": "code",
   "execution_count": 15,
   "metadata": {},
   "outputs": [],
   "source": [
    "# U = \n",
    "# V = "
   ]
  },
  {
   "cell_type": "markdown",
   "metadata": {},
   "source": [
    "4. Tracez les lignes de courant et iso-potentiel"
   ]
  },
  {
   "cell_type": "code",
   "execution_count": 16,
   "metadata": {},
   "outputs": [],
   "source": [
    "# plot_contours_phi_psi ..."
   ]
  },
  {
   "cell_type": "code",
   "execution_count": 17,
   "metadata": {},
   "outputs": [],
   "source": [
    "# plot_lignes_courant ..."
   ]
  },
  {
   "cell_type": "markdown",
   "metadata": {},
   "source": [
    "5. Créez une source en $(-2,0)$ et tracez la."
   ]
  },
  {
   "cell_type": "code",
   "execution_count": 18,
   "metadata": {},
   "outputs": [],
   "source": [
    "x0 = -2.0\n",
    "y0 = 0.0\n",
    "# R = \n",
    "# THETA = \n",
    "# PHI =\n",
    "# PSI = \n",
    "# U = \n",
    "# V = "
   ]
  },
  {
   "cell_type": "code",
   "execution_count": null,
   "metadata": {},
   "outputs": [],
   "source": []
  },
  {
   "cell_type": "code",
   "execution_count": null,
   "metadata": {},
   "outputs": [],
   "source": []
  },
  {
   "cell_type": "markdown",
   "metadata": {},
   "source": [
    "### Exercice 4 - Écoulement uniforme et source\n",
    "Superposez un écoulement uniforme d'incitdence $\\alpha$ et une source en $(x_0,y_0)$.   \n",
    "Est ce que l'écoulement est modifié par la position de la source et l'intensité de la vitesse et du débit ? "
   ]
  },
  {
   "cell_type": "code",
   "execution_count": 19,
   "metadata": {},
   "outputs": [],
   "source": [
    "# Vinf = \n",
    "# alpha = \n",
    "# x0 = \n",
    "# y0 \n",
    "# L = "
   ]
  },
  {
   "cell_type": "markdown",
   "metadata": {},
   "source": [
    "L'écoulement uniforme"
   ]
  },
  {
   "cell_type": "code",
   "execution_count": 20,
   "metadata": {},
   "outputs": [],
   "source": [
    "# PHI1 =\n",
    "# PSI1 = \n",
    "# U1 = \n",
    "# V1 = "
   ]
  },
  {
   "cell_type": "markdown",
   "metadata": {},
   "source": [
    "Une source en $(x_0,y_0)$"
   ]
  },
  {
   "cell_type": "code",
   "execution_count": 21,
   "metadata": {},
   "outputs": [],
   "source": [
    "# PHI2 =\n",
    "# PSI2 = \n",
    "# U2 = \n",
    "# V2 = "
   ]
  },
  {
   "cell_type": "markdown",
   "metadata": {},
   "source": [
    "La superposition"
   ]
  },
  {
   "cell_type": "code",
   "execution_count": 22,
   "metadata": {},
   "outputs": [],
   "source": [
    "# PHI = \n",
    "# PSI = \n",
    "# U = \n",
    "# V = "
   ]
  },
  {
   "cell_type": "code",
   "execution_count": 23,
   "metadata": {},
   "outputs": [],
   "source": [
    "# plot_contours_phi_psi ..."
   ]
  },
  {
   "cell_type": "code",
   "execution_count": 24,
   "metadata": {},
   "outputs": [],
   "source": [
    "# plot_lignes_courant ..."
   ]
  },
  {
   "cell_type": "markdown",
   "metadata": {},
   "source": [
    "Ajoutez un puits pour former l'ovale de Rankine. \n",
    "* Vous pouvez régler l'écoulement sans incidence pour vous faciliter le positionnement.\n",
    "* Faites varier l'intensité et la position relative des sources et puits et celle de la vitesse \n",
    "* Essayez de matérialiser le contour de l'obstacle"
   ]
  },
  {
   "cell_type": "code",
   "execution_count": 25,
   "metadata": {},
   "outputs": [],
   "source": [
    "# PHI3 =\n",
    "# PSI3 = \n",
    "# U3 = \n",
    "# V3 = "
   ]
  },
  {
   "cell_type": "code",
   "execution_count": 26,
   "metadata": {},
   "outputs": [],
   "source": [
    "# PHI = \n",
    "# PSI = \n",
    "# U = \n",
    "# V = "
   ]
  },
  {
   "cell_type": "code",
   "execution_count": 27,
   "metadata": {},
   "outputs": [],
   "source": [
    "# plot_contours_phi_psi ..."
   ]
  },
  {
   "cell_type": "code",
   "execution_count": 28,
   "metadata": {},
   "outputs": [],
   "source": [
    "# plot_lignes_courant ..."
   ]
  }
 ],
 "metadata": {
  "kernelspec": {
   "display_name": "Python 3",
   "language": "python",
   "name": "python3"
  },
  "language_info": {
   "codemirror_mode": {
    "name": "ipython",
    "version": 3
   },
   "file_extension": ".py",
   "mimetype": "text/x-python",
   "name": "python",
   "nbconvert_exporter": "python",
   "pygments_lexer": "ipython3",
   "version": "3.8.13"
  }
 },
 "nbformat": 4,
 "nbformat_minor": 4
}
