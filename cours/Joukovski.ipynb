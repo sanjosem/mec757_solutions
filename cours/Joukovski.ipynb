{
 "cells": [
  {
   "cell_type": "code",
   "execution_count": 1,
   "metadata": {},
   "outputs": [],
   "source": [
    "from ipywidgets import interactive\n",
    "from ipywidgets import FloatSlider"
   ]
  },
  {
   "cell_type": "code",
   "execution_count": 2,
   "metadata": {},
   "outputs": [],
   "source": [
    "import module.plot_Jouk_helper as hpl\n",
    "hpl.define_mplt_par()"
   ]
  },
  {
   "cell_type": "code",
   "execution_count": 3,
   "metadata": {},
   "outputs": [],
   "source": [
    "Vinf = 1.5"
   ]
  },
  {
   "cell_type": "code",
   "execution_count": 4,
   "metadata": {},
   "outputs": [
    {
     "data": {
      "application/vnd.jupyter.widget-view+json": {
       "model_id": "1fb3eeb7e4e6424784e8badc9bf72805",
       "version_major": 2,
       "version_minor": 0
      },
      "text/plain": [
       "interactive(children=(FloatSlider(value=0.1, continuous_update=False, description='xpos', max=0.3, min=0.005, …"
      ]
     },
     "metadata": {},
     "output_type": "display_data"
    }
   ],
   "source": [
    "def f1(xpos,ypos,AoA,Gamma):\n",
    "    from numpy import deg2rad\n",
    "    alpha = deg2rad(AoA)\n",
    "    hpl.plot_phi_psi_cylinder(Vinf=Vinf,alpha=alpha,center=[-xpos,ypos],Gamma=Gamma,nr=100,nt=720,apply_Kutta=False)\n",
    "\n",
    "xw = FloatSlider(min=0.005,max=0.3,step=0.005,value=0.1,continuous_update=False)\n",
    "yw = FloatSlider(min=0.0,max=0.5,step=0.01,value=0.1,continuous_update=False)\n",
    "Aw = FloatSlider(min=0.0,max=12.0,step=0.5,value=0.0,continuous_update=False)\n",
    "Gw = FloatSlider(min=0.0,max=8.0,step=0.1,value=0.0,continuous_update=False)\n",
    "\n",
    "interactive_plot = interactive(f1,xpos=xw,ypos=yw,AoA=Aw,Gamma=Gw,continuous_update=False)\n",
    "# output = interactive_plot.children[-1]\n",
    "# output.layout.height = '350px'\n",
    "interactive_plot\n",
    "\n"
   ]
  },
  {
   "cell_type": "code",
   "execution_count": 5,
   "metadata": {},
   "outputs": [
    {
     "data": {
      "application/vnd.jupyter.widget-view+json": {
       "model_id": "78fe75699e614b8692c556d2c266482a",
       "version_major": 2,
       "version_minor": 0
      },
      "text/plain": [
       "interactive(children=(FloatSlider(value=0.1, continuous_update=False, description='xpos', max=0.3, min=0.005, …"
      ]
     },
     "metadata": {},
     "output_type": "display_data"
    }
   ],
   "source": [
    "def f2(xpos,ypos,AoA):\n",
    "    from numpy import deg2rad\n",
    "    alpha = deg2rad(AoA)\n",
    "    hpl.plot_vel_cylinder(Vinf=Vinf,alpha=alpha,center=[-xpos,ypos],nr=100,nt=720)\n",
    "    hpl.plot_press_cylinder(Vinf=Vinf,alpha=alpha,center=[-xpos,ypos],nr=100,nt=720)\n",
    "\n",
    "xw = FloatSlider(min=0.005,max=0.3,step=0.005,value=0.1,continuous_update=False)\n",
    "yw = FloatSlider(min=0.0,max=0.5,step=0.01,value=0.1,continuous_update=False)\n",
    "Aw = FloatSlider(min=0.0,max=12.0,step=0.5,value=0.0,continuous_update=False)\n",
    "\n",
    "interactive_plot = interactive(f2,xpos=xw,ypos=yw,AoA=Aw,continuous_update=False)\n",
    "# output = interactive_plot.children[-1]\n",
    "# output.layout.height = '350px'\n",
    "interactive_plot\n",
    "\n"
   ]
  },
  {
   "cell_type": "code",
   "execution_count": 6,
   "metadata": {},
   "outputs": [
    {
     "data": {
      "application/vnd.jupyter.widget-view+json": {
       "model_id": "ca8bf65596a74f3daee311027511afe8",
       "version_major": 2,
       "version_minor": 0
      },
      "text/plain": [
       "interactive(children=(FloatSlider(value=0.1, continuous_update=False, description='xpos', max=0.3, min=0.005, …"
      ]
     },
     "metadata": {},
     "output_type": "display_data"
    }
   ],
   "source": [
    "def f3(xpos,ypos,AoA):\n",
    "    from numpy import deg2rad\n",
    "    alpha = deg2rad(AoA)\n",
    "    hpl.plot_Cp_peau(Vinf=Vinf,alpha=alpha,center=[-xpos,ypos],nr=100,nt=720)\n",
    "    \n",
    "xw = FloatSlider(min=0.005,max=0.3,step=0.005,value=0.1,continuous_update=False)\n",
    "yw = FloatSlider(min=0.0,max=0.5,step=0.01,value=0.1,continuous_update=False)\n",
    "Aw = FloatSlider(min=0.0,max=12.0,step=0.5,value=0.0,continuous_update=False)\n",
    "interactive_plot = interactive(f3,xpos=xw,ypos=yw,AoA=Aw)\n",
    "# output = interactive_plot.children[-1]\n",
    "# output.layout.height = '350px'\n",
    "interactive_plot\n",
    "\n"
   ]
  }
 ],
 "metadata": {
  "kernelspec": {
   "display_name": "Python 3",
   "language": "python",
   "name": "python3"
  },
  "language_info": {
   "codemirror_mode": {
    "name": "ipython",
    "version": 3
   },
   "file_extension": ".py",
   "mimetype": "text/x-python",
   "name": "python",
   "nbconvert_exporter": "python",
   "pygments_lexer": "ipython3",
   "version": "3.8.12"
  }
 },
 "nbformat": 4,
 "nbformat_minor": 4
}
